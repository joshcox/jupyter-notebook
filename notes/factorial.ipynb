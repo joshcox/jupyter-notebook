{
 "cells": [
  {
   "cell_type": "markdown",
   "id": "f4a2b58e-4c61-443b-a17f-bb3bd56c7086",
   "metadata": {},
   "source": [
    "# Factorial\n",
    "Here's a markdown snippet describing the function below. Test."
   ]
  },
  {
   "cell_type": "code",
   "execution_count": 1,
   "id": "639dd981-53a6-4309-b169-901a094112c4",
   "metadata": {},
   "outputs": [
    {
     "name": "stdout",
     "output_type": "stream",
     "text": [
      "120\n"
     ]
    }
   ],
   "source": [
    "const factorial = (n: number) => n === 1 ? 1 : n * factorial(n - 1);\n",
    "\n",
    "factorial(5)"
   ]
  }
 ],
 "metadata": {
  "kernelspec": {
   "display_name": "TypeScript",
   "language": "typescript",
   "name": "tslab"
  },
  "language_info": {
   "codemirror_mode": {
    "mode": "typescript",
    "name": "javascript",
    "typescript": true
   },
   "file_extension": ".ts",
   "mimetype": "text/typescript",
   "name": "typescript",
   "version": "3.7.2"
  }
 },
 "nbformat": 4,
 "nbformat_minor": 5
}
